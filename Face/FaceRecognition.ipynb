{
  "nbformat": 4,
  "nbformat_minor": 0,
  "metadata": {
    "colab": {
      "name": "FaceRecognition.ipynb",
      "provenance": []
    },
    "kernelspec": {
      "name": "python3",
      "display_name": "Python 3"
    },
    "language_info": {
      "name": "python"
    }
  },
  "cells": [
    {
      "cell_type": "code",
      "metadata": {
        "id": "u4OqyfJNaPYm"
      },
      "source": [
        "!pip install cognitive_face"
      ],
      "execution_count": null,
      "outputs": []
    },
    {
      "cell_type": "code",
      "metadata": {
        "id": "VbAhpROraPkq"
      },
      "source": [
        "!pip install opencv-python"
      ],
      "execution_count": null,
      "outputs": []
    },
    {
      "cell_type": "code",
      "metadata": {
        "id": "yYB49AhpaM5Q"
      },
      "source": [
        "import cognitive_face as CF\n",
        "import cv2\n",
        "KEY = \"PASTE YOUR KEY\"\n",
        "CF.Key.set(KEY)\n",
        "\n",
        "BASE_URL = 'https://koreacentral.api.cognitive.microsoft.com/face/v1.0/'\n",
        "CF.BaseUrl.set(BASE_URL)\n",
        "\n",
        "#웹캠으로부터 사진을 캡쳐해서 분석하는 코드\n",
        "camera = cv2.VideoCapture(0)\n",
        "while True:\n",
        "    ret, image = camera.read()\n",
        "    if(int(camera.get(1)) % 60 == 0):\n",
        "        print('Saved image ' + str(int(camera.get(1))))\n",
        "        cv2.imwrite(\"emotions/frame.png\", image)\n",
        "        img_url = './emotions/frame.png'\n",
        "        faces = CF.face.detect(img_url, True, False, \"age, gender, emotion\")\n",
        "\n",
        "        for i in faces:\n",
        "            sadness = i['faceAttributes']['emotion']['sadness']\n",
        "            print('sadness', sadness)\n",
        "            print(i)\n",
        "            print()\n",
        "        \n",
        "        #사진 삭제\n",
        "        if os.path.isfile(img_url):\n",
        "        \tos.remove(img_url)\n",
        "            \n",
        "    # q를 누르면 종료된다\n",
        "    if cv2.waitKey(1) & 0xFF == ord('q'):\n",
        "        break\n",
        "\n",
        "camera.release()\n",
        "cv2.destroyAllWindows()\n",
        "\n",
        "'''\n",
        "#사진 분석을 위해 사용하는 코드\n",
        "img_url = 'PASTE URL'\n",
        "faces = CF.face.detect(img_url, True, False, \"age, gender, emotion\")\n",
        "\n",
        "for i in faces:\n",
        "    sadness = i['faceAttributes']['emotion']['sadness']\n",
        "    print('sadness:', sadness)\n",
        "    print(i)\n",
        "    print()\n",
        "    \n",
        "#얼굴 주변 사각형 그리기\n",
        "import requests\n",
        "from io import BytesIO\n",
        "from PIL import Image, ImageDraw\n",
        "\n",
        "def getRectangle(faceDictionary):\n",
        "    rect = faceDictionary['faceRectangle']\n",
        "    left = rect['left']\n",
        "    top = rect['top']\n",
        "    right = left + rect['width']\n",
        "    bottom = top + rect['height']\n",
        "    return ((left, top), (right, bottom))\n",
        "\n",
        "#http~ url일 때\n",
        "#response = requests.get(img_url)\n",
        "#img = Image.open(BytesIO(response.content))\n",
        "\n",
        "#로컬 이미지일 때\n",
        "img = Image.open(img_url)\n",
        "draw = ImageDraw.Draw(img)\n",
        "for face in faces:\n",
        "    draw.rectangle(getRectangle(face), outline='red')\n",
        "    \n",
        "img.show()\n",
        "'''"
      ],
      "execution_count": null,
      "outputs": []
    }
  ]
}